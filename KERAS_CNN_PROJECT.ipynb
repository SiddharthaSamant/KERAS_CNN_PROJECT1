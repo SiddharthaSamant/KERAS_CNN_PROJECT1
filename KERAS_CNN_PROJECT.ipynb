{
  "nbformat": 4,
  "nbformat_minor": 0,
  "metadata": {
    "colab": {
      "name": "KERAS_CNN_PROJECT.ipynb",
      "provenance": [],
      "collapsed_sections": [],
      "authorship_tag": "ABX9TyMeORg9qCjGPQLGD1F0tO1i",
      "include_colab_link": true
    },
    "kernelspec": {
      "name": "python3",
      "display_name": "Python 3"
    },
    "accelerator": "GPU"
  },
  "cells": [
    {
      "cell_type": "markdown",
      "metadata": {
        "id": "view-in-github",
        "colab_type": "text"
      },
      "source": [
        "<a href=\"https://colab.research.google.com/github/SiddharthaSamant/KERAS_CNN_PROJECT1/blob/master/KERAS_CNN_PROJECT.ipynb\" target=\"_parent\"><img src=\"https://colab.research.google.com/assets/colab-badge.svg\" alt=\"Open In Colab\"/></a>"
      ]
    },
    {
      "cell_type": "markdown",
      "metadata": {
        "id": "FcJKqcREUSCB",
        "colab_type": "text"
      },
      "source": [
        " **NEURAL NETWORK MANUAL ENTRY DIGIT RECOGNITION PROJECT**\n",
        "\n",
        "*MADE BY*-\n",
        "GAURAV KASHYAP AND SIDDHATHA SAMANT\n",
        "Birla Institute Technology,Mesra\n",
        "\n",
        "THIS PROJECT IS BASED ON THE BUILDING OF A NEURAL NETWORK BY TRAINING IT ON THE MNIST DATA WHICH CONSISTS OF 6000 SAMPLES OF TRAINING IMAGE DATA AND 1000 TESTING  IMAGE DATA\n",
        "  "
      ]
    },
    {
      "cell_type": "markdown",
      "metadata": {
        "id": "iTyjdnGpWdH0",
        "colab_type": "text"
      },
      "source": [
        "![alt text](https://drive.google.com/uc?id=14w1RIUt2RkH18cYEmeqHSXXGvoe7zHEr)\n"
      ]
    },
    {
      "cell_type": "code",
      "metadata": {
        "id": "vTCYSR2-uEYA",
        "colab_type": "code",
        "colab": {
          "base_uri": "https://localhost:8080/",
          "height": 50
        },
        "outputId": "db586a85-2678-4a09-e3eb-eee5652dd8a9"
      },
      "source": [
        "import keras\n",
        "from keras.datasets import mnist\n",
        "from keras.models import Sequential\n",
        "from keras.layers import Dense, Dropout, Flatten\n",
        "from keras.layers import Conv2D, MaxPooling2D\n",
        "from keras import backend as K\n",
        "# the data, split between train and test sets\n",
        "(x_train, y_train), (x_test, y_test) = mnist.load_data()\n",
        "print(x_train.shape, y_train.shape)"
      ],
      "execution_count": 1,
      "outputs": [
        {
          "output_type": "stream",
          "text": [
            "Using TensorFlow backend.\n"
          ],
          "name": "stderr"
        },
        {
          "output_type": "stream",
          "text": [
            "(60000, 28, 28) (60000,)\n"
          ],
          "name": "stdout"
        }
      ]
    },
    {
      "cell_type": "markdown",
      "metadata": {
        "id": "KsuIqUiRXwHG",
        "colab_type": "text"
      },
      "source": [
        "**BEFORE TRAINING OUR MODEL WE NEED TO TURN OUR INPUT DATA INTO A PROCESSABLE FORMAT**"
      ]
    },
    {
      "cell_type": "code",
      "metadata": {
        "id": "pl5eYmDvuOv4",
        "colab_type": "code",
        "colab": {
          "base_uri": "https://localhost:8080/",
          "height": 84
        },
        "outputId": "e4bbbb5d-6d7a-4e77-81ad-e2d1c0be41d1"
      },
      "source": [
        "x_train = x_train.reshape(x_train.shape[0], 28, 28, 1)\n",
        "x_test = x_test.reshape(x_test.shape[0], 28, 28, 1)\n",
        "input_shape = (28, 28, 1)\n",
        "#x_train = keras.utils.normalize(x_train, axis = 1)\n",
        "#x_test = keras.utils.normalize(x_test,axis = 1)\n",
        "# convert class vectors to binary class matrices\n",
        "y_train = keras.utils.to_categorical(y_train,10 )\n",
        "y_test = keras.utils.to_categorical(y_test,10)\n",
        "x_train = x_train.astype('float32')\n",
        "x_test = x_test.astype('float32')\n",
        "x_train /= 255\n",
        "x_test /= 255\n",
        "print('x_train shape:', x_train.shape)\n",
        "print('y_train shape:', y_train.shape)\n",
        "print(x_train.shape[0], 'train samples')\n",
        "print(x_test.shape[0], 'test samples')"
      ],
      "execution_count": 2,
      "outputs": [
        {
          "output_type": "stream",
          "text": [
            "x_train shape: (60000, 28, 28, 1)\n",
            "y_train shape: (60000, 10)\n",
            "60000 train samples\n",
            "10000 test samples\n"
          ],
          "name": "stdout"
        }
      ]
    },
    {
      "cell_type": "markdown",
      "metadata": {
        "id": "aLTDenTvYYKq",
        "colab_type": "text"
      },
      "source": [
        "** HERE WE BUILD OUR MODEL\n",
        "    SEQUENTIAL CREATES THE ENVIRONMENT\n",
        "    ADDING LAYERS IN BETWEEN INPUT AND OUTPUT \n",
        "    ACTIVATION FUNCTION IS USED TO INTRODUCE A NON LINEARITY IN  THE        OUTPUT FUNCTION\n",
        "\n",
        "\n",
        "The term “dropout” refers to dropping out units (both hidden and visible) in a neural network. Simply put, dropout refers to ignoring units (i.e. neurons) during the training phase of certain set of neurons which is chosen at random.\n",
        "\n",
        "WE ADD 2  HIDDEN LAYERS TO TRAIN OUR MODEL **"
      ]
    },
    {
      "cell_type": "code",
      "metadata": {
        "id": "udtUNeTRuEby",
        "colab_type": "code",
        "colab": {}
      },
      "source": [
        "batch_size = 128\n",
        "num_classes = 10\n",
        "epochs = 10\n",
        "model = Sequential()\n",
        "model.add(Conv2D(32, kernel_size=(3, 3),activation='relu',input_shape=input_shape))\n",
        "model.add(Conv2D(128, (3, 3), activation='relu'))\n",
        "model.add(MaxPooling2D(pool_size=(2, 2)))\n",
        "model.add(Dropout(0.25))\n",
        "model.add(Flatten())\n",
        "model.add(Dense(256, activation='relu'))\n",
        "model.add(Dropout(0.2))\n",
        "model.add(Dense(num_classes, activation='softmax'))\n",
        "model.compile(loss=keras.losses.categorical_crossentropy,optimizer=keras.optimizers.Adadelta(),metrics=['accuracy'])"
      ],
      "execution_count": 0,
      "outputs": []
    },
    {
      "cell_type": "markdown",
      "metadata": {
        "id": "w77NTMz64wrc",
        "colab_type": "text"
      },
      "source": [
        "** Flatten is the function that converts the pooled feature map to a single column that is passed to the fully connected layer. Dense adds the fully connected layer to the neural network.      FOLLOWING ARE ACTIVATION FUNCTIONS USED IN ORDER TO INTRODUCE NON LINEARITY IN NEURAL NETWORKS**"
      ]
    },
    {
      "cell_type": "markdown",
      "metadata": {
        "id": "peFxK_Ai8XKL",
        "colab_type": "text"
      },
      "source": [
        "![alt text](https://drive.google.com/uc?id=1lFtRX0f020qhlxRPTJi4suOr09Jm4L88)"
      ]
    },
    {
      "cell_type": "markdown",
      "metadata": {
        "id": "jk8u3y5Ahkc1",
        "colab_type": "text"
      },
      "source": [
        "![alt text](https://drive.google.com/uc?id=1yhQUjRkyxFZ0-FtCX6t08HYTd51T8I_j)"
      ]
    },
    {
      "cell_type": "markdown",
      "metadata": {
        "id": "s2mUodOGa-3G",
        "colab_type": "text"
      },
      "source": [
        "**A pooling layer is another building block of a CNN. Its function is to progressively reduce the spatial size of the representation to reduce the amount of parameters and computation in the network. Pooling layer operates on each feature map independently. The most common approach used in pooling is max pooling.  \n",
        "\n",
        "\n",
        "\n",
        "AND THE REASON RELU IS A FUNCTION OF GOOD CHOICE IS THAT IT SOLVES THE PROBLEM OF VANISHING GRADIENT DESCENT WHEN UPDATING WEIGHTS DURING BACKPROPOGATION.\n",
        " **"
      ]
    },
    {
      "cell_type": "markdown",
      "metadata": {
        "id": "Sk2qbzrk9BcK",
        "colab_type": "text"
      },
      "source": [
        "![alt text](https://drive.google.com/uc?id=1aWVG3na0HE-VKLi7ixk5_wDAu7AXR6cw)"
      ]
    },
    {
      "cell_type": "code",
      "metadata": {
        "id": "aoLhleHavmh_",
        "colab_type": "code",
        "colab": {
          "base_uri": "https://localhost:8080/",
          "height": 571
        },
        "outputId": "6fcd5dbd-5de9-4d47-e31e-41c2436093df"
      },
      "source": [
        "hist = model.fit(x_train, y_train,batch_size=batch_size,epochs=15,verbose=1,validation_data=(x_test, y_test))\n",
        "print(\"The model has successfully trained\")\n",
        "#model.save('mnist.h5')\n",
        "print(\"Saving the model as mnist.h5\")\n"
      ],
      "execution_count": 4,
      "outputs": [
        {
          "output_type": "stream",
          "text": [
            "Train on 60000 samples, validate on 10000 samples\n",
            "Epoch 1/15\n",
            "60000/60000 [==============================] - 15s 248us/step - loss: 0.1989 - accuracy: 0.9386 - val_loss: 0.0504 - val_accuracy: 0.9833\n",
            "Epoch 2/15\n",
            "60000/60000 [==============================] - 8s 131us/step - loss: 0.0527 - accuracy: 0.9837 - val_loss: 0.0353 - val_accuracy: 0.9881\n",
            "Epoch 3/15\n",
            "60000/60000 [==============================] - 8s 130us/step - loss: 0.0345 - accuracy: 0.9895 - val_loss: 0.0321 - val_accuracy: 0.9884\n",
            "Epoch 4/15\n",
            "60000/60000 [==============================] - 8s 129us/step - loss: 0.0254 - accuracy: 0.9918 - val_loss: 0.0304 - val_accuracy: 0.9892\n",
            "Epoch 5/15\n",
            "60000/60000 [==============================] - 8s 130us/step - loss: 0.0182 - accuracy: 0.9948 - val_loss: 0.0314 - val_accuracy: 0.9904\n",
            "Epoch 6/15\n",
            "60000/60000 [==============================] - 8s 129us/step - loss: 0.0143 - accuracy: 0.9955 - val_loss: 0.0284 - val_accuracy: 0.9912\n",
            "Epoch 7/15\n",
            "60000/60000 [==============================] - 8s 130us/step - loss: 0.0120 - accuracy: 0.9959 - val_loss: 0.0252 - val_accuracy: 0.9920\n",
            "Epoch 8/15\n",
            "60000/60000 [==============================] - 8s 130us/step - loss: 0.0095 - accuracy: 0.9970 - val_loss: 0.0285 - val_accuracy: 0.9914\n",
            "Epoch 9/15\n",
            "60000/60000 [==============================] - 8s 130us/step - loss: 0.0084 - accuracy: 0.9973 - val_loss: 0.0286 - val_accuracy: 0.9919\n",
            "Epoch 10/15\n",
            "60000/60000 [==============================] - 8s 131us/step - loss: 0.0061 - accuracy: 0.9980 - val_loss: 0.0316 - val_accuracy: 0.9910\n",
            "Epoch 11/15\n",
            "60000/60000 [==============================] - 8s 130us/step - loss: 0.0054 - accuracy: 0.9983 - val_loss: 0.0281 - val_accuracy: 0.9919\n",
            "Epoch 12/15\n",
            "60000/60000 [==============================] - 8s 130us/step - loss: 0.0053 - accuracy: 0.9982 - val_loss: 0.0288 - val_accuracy: 0.9915\n",
            "Epoch 13/15\n",
            "60000/60000 [==============================] - 8s 129us/step - loss: 0.0039 - accuracy: 0.9988 - val_loss: 0.0319 - val_accuracy: 0.9918\n",
            "Epoch 14/15\n",
            "60000/60000 [==============================] - 8s 129us/step - loss: 0.0039 - accuracy: 0.9986 - val_loss: 0.0341 - val_accuracy: 0.9923\n",
            "Epoch 15/15\n",
            "60000/60000 [==============================] - 8s 129us/step - loss: 0.0029 - accuracy: 0.9991 - val_loss: 0.0313 - val_accuracy: 0.9918\n",
            "The model has successfully trained\n",
            "Saving the model as mnist.h5\n"
          ],
          "name": "stdout"
        }
      ]
    },
    {
      "cell_type": "markdown",
      "metadata": {
        "id": "KM4SDux4dq1l",
        "colab_type": "text"
      },
      "source": [
        "**WE TRAINED ON THE 6000 TRAINING SAMPLES BY RUNNING 15 EPOCHS AND NOW WE EVALUATE THE SCORE BY TESTING IT ON THE 1000 TEST IMAGES  **"
      ]
    },
    {
      "cell_type": "code",
      "metadata": {
        "id": "IJGpQ5Nfzc_K",
        "colab_type": "code",
        "colab": {
          "base_uri": "https://localhost:8080/",
          "height": 34
        },
        "outputId": "473a4f41-d5f7-4811-8c95-c2eac64c00cf"
      },
      "source": [
        "score = model.evaluate(x_test, y_test, verbose=0)\n",
        "print('Test loss:', score[0])\n"
      ],
      "execution_count": 4,
      "outputs": [
        {
          "output_type": "stream",
          "text": [
            "Test loss: 2.2983329986572265\n"
          ],
          "name": "stdout"
        }
      ]
    },
    {
      "cell_type": "markdown",
      "metadata": {
        "id": "qaym2XA0ewF_",
        "colab_type": "text"
      },
      "source": [
        "**NOW WE WANT TO TEST OUR MODEL ON SOME  INPUT THAT IS NOT IN THE TESTING OR TRAINING SAMPLE, SO NOW WE CONSIDER USING THE OPENCV PACKAGE OF PYTHON ,WE WILL TAKE AN INPUT FROM THE USER THAT WILL BE HAND WRITTEN DIGIT AND WILL BE TAKEN AS AN IMAGE FROM THE WEB CAM ,  **"
      ]
    },
    {
      "cell_type": "markdown",
      "metadata": {
        "id": "tclU4OW8gRIz",
        "colab_type": "text"
      },
      "source": [
        "# THIS IS THE SECTION WHICH SHOWS HOW TO TAKE MANUAL INPUT IMAGE AND THEN TURN THE IMAGE INTO A FORMAT THAT CAN BE PASSED IN TO OUR MODEL TO FURTHER PROCESS IT AND MAKE A PREDICTION"
      ]
    },
    {
      "cell_type": "code",
      "metadata": {
        "id": "z7WBNudfzo0g",
        "colab_type": "code",
        "colab": {
          "base_uri": "https://localhost:8080/",
          "height": 1000
        },
        "outputId": "fe97286b-04e2-404c-dcc3-6bdc95551198"
      },
      "source": [
        "\n",
        "from IPython.display import display, Javascript\n",
        "from google.colab.output import eval_js\n",
        "from base64 import b64decode\n",
        "import cv2\n",
        "import matplotlib.pyplot as plt\n",
        "import numpy as np\n",
        "\n",
        "def take_photo(filename='photo.jpg', quality=0.8):\n",
        "  js = Javascript('''\n",
        "    async function takePhoto(quality) {\n",
        "      const div = document.createElement('div');\n",
        "      const capture = document.createElement('button');\n",
        "      capture.textContent = 'Capture';\n",
        "      div.appendChild(capture);\n",
        "\n",
        "      const video = document.createElement('video');\n",
        "      video.style.display = 'block';\n",
        "      const stream = await navigator.mediaDevices.getUserMedia({video: true});\n",
        "\n",
        "      document.body.appendChild(div);\n",
        "      div.appendChild(video);\n",
        "      video.srcObject = stream;\n",
        "      await video.play();\n",
        "\n",
        "      // Resize the output to fit the video element.\n",
        "      google.colab.output.setIframeHeight(document.documentElement.scrollHeight, true);\n",
        "\n",
        "      // Wait for Capture to be clicked.\n",
        "      await new Promise((resolve) => capture.onclick = resolve);\n",
        "\n",
        "      const canvas = document.createElement('canvas');\n",
        "      canvas.width = video.videoWidth;\n",
        "      canvas.height = video.videoHeight;\n",
        "      canvas.getContext('2d').drawImage(video, 0, 0);\n",
        "      stream.getVideoTracks()[0].stop();\n",
        "      div.remove();\n",
        "      return canvas.toDataURL('image/jpeg', quality);\n",
        "    }\n",
        "    ''')\n",
        "  display(js)\n",
        "  data = eval_js('takePhoto({})'.format(quality))\n",
        "  binary = b64decode(data.split(',')[1])\n",
        "  with open(filename, 'wb') as f:\n",
        "    f.write(binary)\n",
        "  return filename\n",
        "\n",
        "from IPython.display import Image\n",
        "try:\n",
        "  filename = take_photo()\n",
        "  print('Saved to {}'.format(filename))\n",
        "  \n",
        "  # Show the image which was just taken.\n",
        "  display(Image(filename))\n",
        "except Exception as err:\n",
        "  # Errors will be thrown if the user does not have a webcam or if they do not\n",
        "  # grant the page permission to access it.\n",
        "  print(str(err))\n",
        "\n",
        "from PIL import Image\n",
        "user_test = filename\n",
        "col = Image.open(user_test)\n",
        "gray = col.convert('L')\n",
        "bw = gray.point(lambda x: 0 if x<100 else 255, '1')\n",
        "bw.save(\"bw_image.jpg\")\n",
        "bw\n",
        "img_array = cv2.imread(\"bw_image.jpg\", cv2.IMREAD_GRAYSCALE)\n",
        "img_array = cv2.bitwise_not(img_array)\n",
        "print(img_array.size)\n",
        "plt.imshow(img_array, cmap = plt.cm.binary)\n",
        "plt.show()\n",
        "img_size = 28\n",
        "new_array = cv2.resize(img_array, (img_size,img_size))\n",
        "print(new_array.size)\n",
        "plt.imshow(new_array, cmap = plt.cm.binary)\n",
        "plt.show()\n",
        "#user_test = tf.keras.utils.normalize(new_array, axis = 1)\n",
        "user_test = new_array.reshape(new_array.shape[0], 1, 28, 1)\n",
        "_user_test = user_test.astype('float32')\n",
        "\n",
        "user_test=np.reshape(user_test,(1,28,28,1))\n",
        "predicted = model.predict(user_test)\n",
        "a = predicted[0][0]\n",
        "for i in range(0,10):\n",
        "  b = predicted[0][i]\n",
        "  print(\"Probability Distribution for\",i,b)\n",
        "\n",
        "print(\"The Predicted Value is\",np.argmax(predicted[0]))\n"
      ],
      "execution_count": 20,
      "outputs": [
        {
          "output_type": "display_data",
          "data": {
            "application/javascript": [
              "\n",
              "    async function takePhoto(quality) {\n",
              "      const div = document.createElement('div');\n",
              "      const capture = document.createElement('button');\n",
              "      capture.textContent = 'Capture';\n",
              "      div.appendChild(capture);\n",
              "\n",
              "      const video = document.createElement('video');\n",
              "      video.style.display = 'block';\n",
              "      const stream = await navigator.mediaDevices.getUserMedia({video: true});\n",
              "\n",
              "      document.body.appendChild(div);\n",
              "      div.appendChild(video);\n",
              "      video.srcObject = stream;\n",
              "      await video.play();\n",
              "\n",
              "      // Resize the output to fit the video element.\n",
              "      google.colab.output.setIframeHeight(document.documentElement.scrollHeight, true);\n",
              "\n",
              "      // Wait for Capture to be clicked.\n",
              "      await new Promise((resolve) => capture.onclick = resolve);\n",
              "\n",
              "      const canvas = document.createElement('canvas');\n",
              "      canvas.width = video.videoWidth;\n",
              "      canvas.height = video.videoHeight;\n",
              "      canvas.getContext('2d').drawImage(video, 0, 0);\n",
              "      stream.getVideoTracks()[0].stop();\n",
              "      div.remove();\n",
              "      return canvas.toDataURL('image/jpeg', quality);\n",
              "    }\n",
              "    "
            ],
            "text/plain": [
              "<IPython.core.display.Javascript object>"
            ]
          },
          "metadata": {
            "tags": []
          }
        },
        {
          "output_type": "stream",
          "text": [
            "Saved to photo.jpg\n"
          ],
          "name": "stdout"
        },
        {
          "output_type": "display_data",
          "data": {
            "image/jpeg": "[encoded data removed]",
            "text/plain": [
              "<IPython.core.display.Image object>"
            ]
          },
          "metadata": {
            "tags": []
          }
        },
        {
          "output_type": "stream",
          "text": [
            "307200\n"
          ],
          "name": "stdout"
        },
        {
          "output_type": "display_data",
          "data": {
            "image/png": "[encoded data removed]",
            "text/plain": [
              "<Figure size 432x288 with 1 Axes>"
            ]
          },
          "metadata": {
            "tags": [],
            "needs_background": "light"
          }
        },
        {
          "output_type": "stream",
          "text": [
            "784\n"
          ],
          "name": "stdout"
        },
        {
          "output_type": "display_data",
          "data": {
            "image/png": "[encoded data removed]",
            "text/plain": [
              "<Figure size 432x288 with 1 Axes>"
            ]
          },
          "metadata": {
            "tags": [],
            "needs_background": "light"
          }
        },
        {
          "output_type": "stream",
          "text": [
            "Probability Distribution for 0 0.0008499245\n",
            "Probability Distribution for 1 1.8527807e-06\n",
            "Probability Distribution for 2 0.00019211398\n",
            "Probability Distribution for 3 0.9862142\n",
            "Probability Distribution for 4 0.008718558\n",
            "Probability Distribution for 5 2.559222e-05\n",
            "Probability Distribution for 6 0.0033455098\n",
            "Probability Distribution for 7 9.51103e-05\n",
            "Probability Distribution for 8 0.00042343893\n",
            "Probability Distribution for 9 0.00013373006\n",
            "The Predicted Value is 3\n"
          ],
          "name": "stdout"
        }
      ]
    },
    {
      "cell_type": "markdown",
      "metadata": {
        "id": "i-ntNKphg3ZS",
        "colab_type": "text"
      },
      "source": [
        "# AS WE CAN SEE THE IMAGE TAKEN USING WEBCAM ,\n",
        "WHICH WAS THEN RESIZED TO A SHAPE WHICH WAS FED TO OUR MODEL,THE OUTPUT WAS THE NUMBER WHICH HAD MAXIMUM PROBABILITY DISTRIBUTION. "
      ]
    }
  ]
}